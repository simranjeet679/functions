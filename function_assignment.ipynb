{
  "nbformat": 4,
  "nbformat_minor": 0,
  "metadata": {
    "colab": {
      "provenance": []
    },
    "kernelspec": {
      "name": "python3",
      "display_name": "Python 3"
    },
    "language_info": {
      "name": "python"
    }
  },
  "cells": [
    {
      "cell_type": "markdown",
      "source": [
        "#Theory questions\n",
        "\n",
        "1.what is the difference between a function and a method in python?\n",
        "\n",
        "-> In Python, functions and methods are similar in that they both perform actions and can take arguments, but they differ mainly in how they are defined and called:\n",
        "\n",
        "#functions\n",
        "\n",
        ".A function is defined using the def keyword or lambda.\n",
        "\n",
        ".It is not tied to a class or object.\n",
        "\n",
        ".You call it directly by name (unless it’s inside a module or class).\n",
        "\n",
        "#method in python\n",
        "\n",
        ".A method is also defined using the def keyword but inside a class.\n",
        "\n",
        ".It is associated with an object (instance).\n",
        "\n",
        ".The method automatically takes the instance (usually self) as its first argument.\n",
        "\n",
        ".Called on an object using dot notation.\n",
        "\n",
        "2.Explain the concept of function arguments and parameters in python?\n",
        "\n",
        "->function is very important as per it helps us to do a specific task multiple times, for creating a function we use def key-word.\n",
        "\n",
        "#syntax\n",
        "def add(a,b): return a+b\n",
        "\n",
        ".Here a and b is a parameters of function while argument is a actual value that u put while calling a function.\n",
        "\n",
        ".a and b are just a variable that stores the value while calling a function where as return statement helps to return a value on its original form means\n",
        "a and b after adding will be return as a int type if we dont pass return statement then the final value will be none type.\n",
        "\n"
      ],
      "metadata": {
        "id": "Z-cNZOUAlBpG"
      }
    },
    {
      "cell_type": "code",
      "source": [
        "#3.what are the different ways to define and call a function in python?\n",
        "\n",
        "#standard way without having any parameters and argument\n",
        "#we call function using greeting()\n",
        "def greeting():\n",
        "  return\"welcome user\""
      ],
      "metadata": {
        "id": "tSOWZsRUsRof"
      },
      "execution_count": null,
      "outputs": []
    },
    {
      "cell_type": "code",
      "source": [
        "greeting()\n"
      ],
      "metadata": {
        "colab": {
          "base_uri": "https://localhost:8080/",
          "height": 36
        },
        "id": "HNeFrIDCvcpo",
        "outputId": "422771ec-a07e-48f1-c276-7f6976bf92bf"
      },
      "execution_count": null,
      "outputs": [
        {
          "output_type": "execute_result",
          "data": {
            "text/plain": [
              "'welcome user'"
            ],
            "application/vnd.google.colaboratory.intrinsic+json": {
              "type": "string"
            }
          },
          "metadata": {},
          "execution_count": 6
        }
      ]
    },
    {
      "cell_type": "code",
      "source": [
        "#defining and calling function using parameters and argument\n",
        "def add(a,b):\n",
        "  return a+b"
      ],
      "metadata": {
        "id": "h1JRQIvTvlec"
      },
      "execution_count": null,
      "outputs": []
    },
    {
      "cell_type": "code",
      "source": [
        "add(10,20)"
      ],
      "metadata": {
        "colab": {
          "base_uri": "https://localhost:8080/"
        },
        "id": "-BWCJJKlwPer",
        "outputId": "1afd8a02-168b-491e-a230-5bd974dea7dd"
      },
      "execution_count": null,
      "outputs": [
        {
          "output_type": "execute_result",
          "data": {
            "text/plain": [
              "30"
            ]
          },
          "metadata": {},
          "execution_count": 8
        }
      ]
    },
    {
      "cell_type": "code",
      "source": [
        "#Lambda (Anonymous) Functions\n",
        "a=lambda x:x**2"
      ],
      "metadata": {
        "id": "xsf-U2dRwR1q"
      },
      "execution_count": null,
      "outputs": []
    },
    {
      "cell_type": "code",
      "source": [
        "a(10)"
      ],
      "metadata": {
        "colab": {
          "base_uri": "https://localhost:8080/"
        },
        "id": "n6C83g1zw4jD",
        "outputId": "d8b5b521-7974-4428-f103-5dd25520842e"
      },
      "execution_count": null,
      "outputs": [
        {
          "output_type": "execute_result",
          "data": {
            "text/plain": [
              "100"
            ]
          },
          "metadata": {},
          "execution_count": 10
        }
      ]
    },
    {
      "cell_type": "code",
      "source": [
        "#Recursive Functions\n",
        "def factorial(a):\n",
        "  if a==1:\n",
        "    return 1\n",
        "  return a*factorial(a-1)"
      ],
      "metadata": {
        "id": "edR3Ek18w6lY"
      },
      "execution_count": null,
      "outputs": []
    },
    {
      "cell_type": "code",
      "source": [
        "factorial(5)"
      ],
      "metadata": {
        "colab": {
          "base_uri": "https://localhost:8080/"
        },
        "id": "nFZyEAL3xX7I",
        "outputId": "aeae42a2-fb2b-4627-cd2d-b916ce699348"
      },
      "execution_count": null,
      "outputs": [
        {
          "output_type": "execute_result",
          "data": {
            "text/plain": [
              "120"
            ]
          },
          "metadata": {},
          "execution_count": 18
        }
      ]
    },
    {
      "cell_type": "markdown",
      "source": [
        "4.what is the purpose of the'return' statement in a python function?\n",
        "\n",
        "-> return  statement is very useful in functions as per it helps to return a value to its original form.\n",
        "\n",
        ".if we dont pass return statement then the final output will be of none type\n",
        "\n",
        ".eg if we r making a function which print \"hello world\" but we r not returning it then it will be of none type but if we pass return statement then \"hello world\" will be of str type means it will be return in its original form.\n",
        "\n",
        ".it is helpful because if we want to add two string we need to pass return statement so that 2 string can concatinate with each other a form a sentence.\n",
        "\n",
        "5.what are iterators in python and how do they differ from iterables?\n",
        "\n",
        "#iterables\n",
        "\n",
        "->An iterable is any object in Python that can be looped over (i.e., you can iterate through it).\n",
        "\n",
        "An object is iterable if it implements the __iter__() method, which returns an iterator.\n",
        "\n",
        "Examples: list, str, tuple, dict, set\n",
        "\n",
        "#iterator\n",
        "\n",
        "An iterator is an object that does the actual iteration.\n",
        "\n",
        "It implements two methods:\n",
        "\n",
        "__iter__() — returns itself\n",
        "\n",
        "__next__() — returns the next item in the sequence and remembers its state\n",
        "\n",
        "Once items are exhausted, __next__() raises StopIteration.\n",
        "\n",
        "6.explain the concept of generators in python and how ther are defined?\n",
        "\n",
        "->A generator in Python is a special type of iterator that yields values one at a time using the yield keyword, instead of returning them all at once like a regular function with return.\n",
        "\n",
        "Generators are memory-efficient and lazy, meaning they generate values on the fly and only when needed.\n",
        "\n",
        "def count_up_to(max):\n",
        "    count = 1\n",
        "    while count <= max:\n",
        "        yield count\n",
        "        count += 1\n",
        "\n",
        "gen = count_up_to(3)\n",
        "print(next(gen))  # 1\n",
        "print(next(gen))  # 2\n",
        "print(next(gen))  # 3\n",
        "\n",
        "7.what are the advantages of using generators over regular functions?\n",
        "\n",
        "->1.  Memory Efficiency\n",
        "\n",
        "Generators don't store all values in memory at once — they yield one item at a time.\n",
        "\n",
        "Ideal for processing large datasets or streams of data\n",
        "\n",
        "2 Lazy Evaluation\n",
        "\n",
        "Generators produce values on the fly, only when requested.\n",
        "\n",
        "Useful when you don’t need all the data at once.\n",
        "\n",
        "Benefit:\n",
        "Faster startup time — the generator can start producing results immediately, without waiting for the whole sequence to be generated.\n",
        "\n",
        "8.what is lambda function in python and when is it typically used?\n",
        "\n",
        "->A lambda function in Python is a small, anonymous (unnamed) function defined using the lambda keyword. It’s used to create simple functions in a single line — especially when you don’t want to formally define a function using def.\n",
        "\n",
        "1.lambda: keyword to define the function\n",
        "\n",
        "2.arguments: input(s) to the function\n",
        "\n",
        "3.expression: what the function returns (must be a single expression, not a block)\n",
        "\n",
        "Lambdas support declarative code styles, emphasizing what should be done rather than how.\n",
        "\n",
        "They align with map(), filter(), reduce(), and other functional paradigms.\n",
        "\n",
        "9.explain the purpose and usage of map() function in python?\n",
        "\n",
        "->The map() function in Python is used to apply a given function to every item in an iterable (like a list, tuple, etc.), without writing an explicit loop.\n",
        "\n",
        "It's a key part of functional programming in Python, allowing you to transform data elegantly and concisely.\n",
        "\n",
        "map(function, iterable)\n",
        "function: A function to apply to each item.\n",
        "\n",
        "iterable: A sequence (like list, tuple, etc.).\n",
        "\n",
        "map() returns a map object (an iterator) — you usually convert it to a list or use it in a loop.\n",
        "\n",
        "10.what is the difference between map(),reduce() and filter() function in python?\n",
        "\n",
        "->map() – Transformation\n",
        "\n",
        "🔹 Theoretical Purpose:\n",
        "To transform each item in an iterable independently using a given function.\n",
        "\n",
        "Applies a function to every element of the iterable.\n",
        "\n",
        "Produces a new iterable with the results of that function.\n",
        "\n",
        "🔸 Concept:\n",
        "One-to-one mapping between input and output elements.\n",
        "\n",
        "\"For every input item, create a new item by applying a function.\"\n",
        "\n",
        "->filter() – Selection\n",
        "\n",
        "🔹 Theoretical Purpose:\n",
        "To select elements from an iterable based on a condition.\n",
        "\n",
        "Applies a function that returns True or False.\n",
        "\n",
        "Only elements where the function returns True are included.\n",
        "\n",
        "🔸 Concept:\n",
        "Input and output items are the same, but some may be excluded.\n",
        "\n",
        "\"Keep only the items that pass a test.\"\n",
        "\n",
        "->reduce() – Accumulation\n",
        "\n",
        "🔹 Theoretical Purpose:\n",
        "To reduce a sequence of items to a single cumulative result by applying a binary function (a function that takes two arguments).\n",
        "\n",
        "Repeatedly applies the function to pairs of items: the accumulated value and the next element.\n",
        "\n",
        "Continues until one final result remains.\n",
        "\n",
        "🔸 Concept:\n",
        "Many-to-one transformation.\n",
        "\n",
        "\"Combine all items into one result.\"\n",
        "\n",
        "11.\n",
        "\n",
        "->\n"
      ],
      "metadata": {
        "id": "eFFWmH8sxvNC"
      }
    },
    {
      "cell_type": "markdown",
      "source": [
        "#practical questions\n"
      ],
      "metadata": {
        "id": "PNZwrKgMxrwC"
      }
    },
    {
      "cell_type": "code",
      "source": [
        "#1.write a python function takes a list of numbers as input and return the sum of all even numbers in the list.\n",
        "def lis(*a):\n",
        "  b=0\n",
        "  for i in a:\n",
        "      if i%2==0:\n",
        "        b=b+i\n",
        "  return b"
      ],
      "metadata": {
        "id": "CeFIVg9zCome"
      },
      "execution_count": 62,
      "outputs": []
    },
    {
      "cell_type": "code",
      "source": [
        "lis(1,2,3,4,5,6,7,8,9,10)"
      ],
      "metadata": {
        "colab": {
          "base_uri": "https://localhost:8080/"
        },
        "id": "s3AW3UdPDpq8",
        "outputId": "52e549e8-e2b6-4a5a-eb9a-5c3624b8a76f"
      },
      "execution_count": 64,
      "outputs": [
        {
          "output_type": "execute_result",
          "data": {
            "text/plain": [
              "30"
            ]
          },
          "metadata": {},
          "execution_count": 64
        }
      ]
    },
    {
      "cell_type": "code",
      "source": [
        "#2create a python function that accepts a string and return the reverse of that string\n",
        "def fun():\n",
        "  a=input(\"enter a character\")\n",
        "  return a[::-1]\n"
      ],
      "metadata": {
        "id": "TDGFuhJtD2yG"
      },
      "execution_count": 65,
      "outputs": []
    },
    {
      "cell_type": "code",
      "source": [
        "fun()"
      ],
      "metadata": {
        "colab": {
          "base_uri": "https://localhost:8080/",
          "height": 53
        },
        "id": "sQlkkTsMG1JN",
        "outputId": "a744ee65-cdfe-483a-9014-e8ec25ce9a8a"
      },
      "execution_count": 66,
      "outputs": [
        {
          "name": "stdout",
          "output_type": "stream",
          "text": [
            "enter a characterhello world\n"
          ]
        },
        {
          "output_type": "execute_result",
          "data": {
            "text/plain": [
              "'dlrow olleh'"
            ],
            "application/vnd.google.colaboratory.intrinsic+json": {
              "type": "string"
            }
          },
          "metadata": {},
          "execution_count": 66
        }
      ]
    },
    {
      "cell_type": "code",
      "source": [
        "#3implement a python function that takes a list of integers and return a new list containing the sequares of each number\n",
        "def square(a):\n",
        "  n=[]\n",
        "  for i in a:\n",
        "    i=i**2\n",
        "    n.append(i)\n",
        "  return n"
      ],
      "metadata": {
        "id": "pZBf0Te2IbHG"
      },
      "execution_count": 69,
      "outputs": []
    },
    {
      "cell_type": "code",
      "source": [
        "square([1,2,3,4,5,6,7])"
      ],
      "metadata": {
        "colab": {
          "base_uri": "https://localhost:8080/"
        },
        "id": "y_RzNh02J61h",
        "outputId": "84c6753d-a14e-450a-b5ce-c7f68a919848"
      },
      "execution_count": 70,
      "outputs": [
        {
          "output_type": "execute_result",
          "data": {
            "text/plain": [
              "[1, 4, 9, 16, 25, 36, 49]"
            ]
          },
          "metadata": {},
          "execution_count": 70
        }
      ]
    },
    {
      "cell_type": "code",
      "source": [
        "#4 write a python function that check if a given numbers is prime or not from 1 to 200\n",
        "def is_prime(*n):\n",
        "    if n <= 1:\n",
        "        return False\n",
        "    for i in range(2, int(n**0.5) + 1):\n",
        "        if n % i == 0:\n",
        "            return False\n",
        "    return True\n"
      ],
      "metadata": {
        "id": "BFleTopEJ-R6"
      },
      "execution_count": 79,
      "outputs": []
    },
    {
      "cell_type": "code",
      "source": [
        "#5 create an iterator class in python that generates the fibonacci sequence up to a specified numbers of terms.\n",
        "class Fibonacci:\n",
        "    def __init__(self, max_terms):\n",
        "        self.max_terms = max_terms\n",
        "        self.count = 0\n",
        "        self.a, self.b = 0, 1\n",
        "\n",
        "    def __iter__(self):\n",
        "        return self  # The object itself is the iterator\n",
        "\n",
        "    def __next__(self):\n",
        "        if self.count >= self.max_terms:\n",
        "            raise StopIteration\n",
        "        value = self.a\n",
        "        self.a, self.b = self.b, self.a + self.b\n",
        "        self.count += 1\n",
        "        return value\n",
        "fib = Fibonacci(10)\n",
        "\n",
        "for num in fib:\n",
        "    print(num)"
      ],
      "metadata": {
        "colab": {
          "base_uri": "https://localhost:8080/"
        },
        "id": "UEppL9TBLzAq",
        "outputId": "569314f0-46c1-42b7-af4a-cfd1d3e66033"
      },
      "execution_count": 81,
      "outputs": [
        {
          "output_type": "stream",
          "name": "stdout",
          "text": [
            "0\n",
            "1\n",
            "1\n",
            "2\n",
            "3\n",
            "5\n",
            "8\n",
            "13\n",
            "21\n",
            "34\n"
          ]
        }
      ]
    },
    {
      "cell_type": "code",
      "source": [
        "#6 write a generator function in python that yield the power of 2up to a given exponent\n",
        "\n",
        "def powe(l):\n",
        "  for i in range(l):\n",
        "    yield 2**i\n"
      ],
      "metadata": {
        "id": "P221fal3MMB4"
      },
      "execution_count": 129,
      "outputs": []
    },
    {
      "cell_type": "code",
      "source": [
        "powe(10)"
      ],
      "metadata": {
        "colab": {
          "base_uri": "https://localhost:8080/"
        },
        "id": "Z2avNNiKNpTN",
        "outputId": "ff10b130-0743-457e-f12e-7e7f3aad892b"
      },
      "execution_count": 130,
      "outputs": [
        {
          "output_type": "execute_result",
          "data": {
            "text/plain": [
              "<generator object powe at 0x7bbfd0ca4d40>"
            ]
          },
          "metadata": {},
          "execution_count": 130
        }
      ]
    },
    {
      "cell_type": "code",
      "source": [
        "gen=powe(10)\n",
        "next(gen)"
      ],
      "metadata": {
        "colab": {
          "base_uri": "https://localhost:8080/"
        },
        "id": "FwYVUlBENrpU",
        "outputId": "f7fab19c-19a1-4424-86c0-fcdf839e543c"
      },
      "execution_count": 131,
      "outputs": [
        {
          "output_type": "execute_result",
          "data": {
            "text/plain": [
              "1"
            ]
          },
          "metadata": {},
          "execution_count": 131
        }
      ]
    },
    {
      "cell_type": "code",
      "source": [
        "next(gen)"
      ],
      "metadata": {
        "colab": {
          "base_uri": "https://localhost:8080/"
        },
        "id": "UYB5Bpr7NzIk",
        "outputId": "735e2657-d0f4-4885-ce9c-1aca4704a8a2"
      },
      "execution_count": 132,
      "outputs": [
        {
          "output_type": "execute_result",
          "data": {
            "text/plain": [
              "2"
            ]
          },
          "metadata": {},
          "execution_count": 132
        }
      ]
    },
    {
      "cell_type": "code",
      "source": [
        "next(gen)"
      ],
      "metadata": {
        "colab": {
          "base_uri": "https://localhost:8080/"
        },
        "id": "v_XvgYlKOnwp",
        "outputId": "ca325df2-b211-4904-e7a1-0701e84f5d30"
      },
      "execution_count": 133,
      "outputs": [
        {
          "output_type": "execute_result",
          "data": {
            "text/plain": [
              "4"
            ]
          },
          "metadata": {},
          "execution_count": 133
        }
      ]
    },
    {
      "cell_type": "code",
      "source": [
        "next(gen)"
      ],
      "metadata": {
        "colab": {
          "base_uri": "https://localhost:8080/"
        },
        "id": "JP9CwwGbQAmK",
        "outputId": "ec457447-b7d6-424b-b21b-b4be8146b0e0"
      },
      "execution_count": 134,
      "outputs": [
        {
          "output_type": "execute_result",
          "data": {
            "text/plain": [
              "8"
            ]
          },
          "metadata": {},
          "execution_count": 134
        }
      ]
    },
    {
      "cell_type": "code",
      "source": [
        "next(gen)"
      ],
      "metadata": {
        "colab": {
          "base_uri": "https://localhost:8080/"
        },
        "id": "9YHL0QUEQBUR",
        "outputId": "5e7ae1e3-b5f4-4768-9137-2a7f35b960dc"
      },
      "execution_count": 135,
      "outputs": [
        {
          "output_type": "execute_result",
          "data": {
            "text/plain": [
              "16"
            ]
          },
          "metadata": {},
          "execution_count": 135
        }
      ]
    },
    {
      "cell_type": "code",
      "source": [
        "#8 use a lambda function in python to sort a list of tuple based on the second element of each tuple\n",
        "data = [(1, 3), (4, 1), (2, 2), (5, 0)]\n",
        "\n",
        "# Sort based on the second element of each tuple\n",
        "sorted_data = sorted(data, key=lambda x: x[1])\n",
        "\n",
        "print(sorted_data)\n",
        "\n"
      ],
      "metadata": {
        "colab": {
          "base_uri": "https://localhost:8080/"
        },
        "id": "atDwpLfLQpTJ",
        "outputId": "8b1998e7-2c0b-47af-87fb-9d0e4204d94a"
      },
      "execution_count": 138,
      "outputs": [
        {
          "output_type": "stream",
          "name": "stdout",
          "text": [
            "[(5, 0), (4, 1), (2, 2), (1, 3)]\n"
          ]
        }
      ]
    },
    {
      "cell_type": "code",
      "source": [
        "#9write a python program that uses map() to convert a list of temperatures from celsius to fahrenheit.\n",
        "# List of temperatures in Celsius\n",
        "celsius_temps = [0, 10, 20, 30, 37, 100]\n",
        "\n",
        "# Convert to Fahrenheit using map() and lambda\n",
        "fahrenheit_temps = list(map(lambda c: (c * 9/5) + 32, celsius_temps))\n",
        "\n",
        "# Print the result\n",
        "print(\"Celsius:\", celsius_temps)\n",
        "print(\"Fahrenheit:\", fahrenheit_temps)"
      ],
      "metadata": {
        "colab": {
          "base_uri": "https://localhost:8080/"
        },
        "id": "ALBpaIyERZvo",
        "outputId": "15bf7405-87cd-42a5-9448-62761d6320f5"
      },
      "execution_count": 139,
      "outputs": [
        {
          "output_type": "stream",
          "name": "stdout",
          "text": [
            "Celsius: [0, 10, 20, 30, 37, 100]\n",
            "Fahrenheit: [32.0, 50.0, 68.0, 86.0, 98.6, 212.0]\n"
          ]
        }
      ]
    },
    {
      "cell_type": "code",
      "source": [
        "#10create a python program that uses filter()to remove all the vowels from a given string.\n",
        "def remove_vowels(input_string):\n",
        "    vowels = 'aeiouAEIOU'\n",
        "    # Use filter to keep only non-vowel characters\n",
        "    result = ''.join(filter(lambda char: char not in vowels, input_string))\n",
        "    return result\n",
        "\n",
        "# Example usage\n",
        "text = \"Hello, Python is awesome!\"\n",
        "filtered_text = remove_vowels(text)\n",
        "\n",
        "print(\"Original:\", text)\n",
        "print(\"Without vowels:\", filtered_text)"
      ],
      "metadata": {
        "colab": {
          "base_uri": "https://localhost:8080/"
        },
        "id": "VJhdh7ZFR2vl",
        "outputId": "bf2aa2e8-0351-4bcd-9425-21e625f8ef3b"
      },
      "execution_count": 140,
      "outputs": [
        {
          "output_type": "stream",
          "name": "stdout",
          "text": [
            "Original: Hello, Python is awesome!\n",
            "Without vowels: Hll, Pythn s wsm!\n"
          ]
        }
      ]
    },
    {
      "cell_type": "markdown",
      "source": [],
      "metadata": {
        "id": "YeohOR80SOxg"
      }
    }
  ]
}